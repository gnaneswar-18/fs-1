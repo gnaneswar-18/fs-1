{
  "nbformat": 4,
  "nbformat_minor": 0,
  "metadata": {
    "colab": {
      "provenance": [],
      "mount_file_id": "1ue7_QQxiaSPtWyR3hlnLVbAaL_oZkoLh",
      "authorship_tag": "ABX9TyNwI9NPZ5GXd0Jdi7Z7SYVb",
      "include_colab_link": true
    },
    "kernelspec": {
      "name": "python3",
      "display_name": "Python 3"
    },
    "language_info": {
      "name": "python"
    }
  },
  "cells": [
    {
      "cell_type": "markdown",
      "metadata": {
        "id": "view-in-github",
        "colab_type": "text"
      },
      "source": [
        "<a href=\"https://colab.research.google.com/github/gnaneswar-18/fs-1/blob/main/fs_1.ipynb\" target=\"_parent\"><img src=\"https://colab.research.google.com/assets/colab-badge.svg\" alt=\"Open In Colab\"/></a>"
      ]
    },
    {
      "cell_type": "code",
      "execution_count": null,
      "metadata": {
        "colab": {
          "base_uri": "https://localhost:8080/"
        },
        "id": "F2T76eXfTWDG",
        "outputId": "2fe31fce-9daa-4a56-ed43-6dd8ce3f6f91"
      },
      "outputs": [
        {
          "output_type": "stream",
          "name": "stdout",
          "text": [
            "   Pregnancies  Glucose  BloodPressure  SkinThickness  Insulin   BMI  \\\n",
            "0            6      148             72             35        0  33.6   \n",
            "1            1       85             66             29        0  26.6   \n",
            "2            8      183             64              0        0  23.3   \n",
            "3            1       89             66             23       94  28.1   \n",
            "4            0      137             40             35      168  43.1   \n",
            "\n",
            "   DiabetesPedigreeFunction  Age  Outcome  \n",
            "0                     0.627   50        1  \n",
            "1                     0.351   31        0  \n",
            "2                     0.672   32        1  \n",
            "3                     0.167   21        0  \n",
            "4                     2.288   33        1  \n",
            "(768, 8)\n"
          ]
        }
      ],
      "source": [
        "import pandas as pd\n",
        "data=pd.read_csv('/content/drive/MyDrive/Colab Notebooks/labs/diabetes.csv')\n",
        "# print(data.columns)\n",
        "x=data.drop(['Outcome'],axis=1)\n",
        "print(x.shape)\n",
        "# print(x.columns)\n",
        "y=data['Outcome']"
      ]
    },
    {
      "cell_type": "code",
      "source": [
        "missing_values=x.eq(0).sum()\n",
        "percent_missing_value=(missing_values/len(x))*100\n",
        "print(percent_missing_value)"
      ],
      "metadata": {
        "colab": {
          "base_uri": "https://localhost:8080/"
        },
        "id": "ve0ybDbIU59H",
        "outputId": "02206abd-f6ef-41d7-d044-823376dcb265"
      },
      "execution_count": null,
      "outputs": [
        {
          "output_type": "stream",
          "name": "stdout",
          "text": [
            "Pregnancies                 14.453125\n",
            "Glucose                      0.651042\n",
            "BloodPressure                4.557292\n",
            "SkinThickness               29.557292\n",
            "Insulin                     48.697917\n",
            "BMI                          1.432292\n",
            "DiabetesPedigreeFunction     0.000000\n",
            "Age                          0.000000\n",
            "dtype: float64\n"
          ]
        }
      ]
    },
    {
      "cell_type": "code",
      "source": [
        "final_data_columns=percent_missing_value.drop(percent_missing_value[percent_missing_value>28].index)\n",
        "print(final_data_columns)"
      ],
      "metadata": {
        "colab": {
          "base_uri": "https://localhost:8080/"
        },
        "id": "mRpA0KMLWylg",
        "outputId": "eced0b01-10b4-411e-bb30-efe79e700937"
      },
      "execution_count": null,
      "outputs": [
        {
          "output_type": "stream",
          "name": "stdout",
          "text": [
            "Pregnancies                 14.453125\n",
            "Glucose                      0.651042\n",
            "BloodPressure                4.557292\n",
            "BMI                          1.432292\n",
            "DiabetesPedigreeFunction     0.000000\n",
            "Age                          0.000000\n",
            "dtype: float64\n"
          ]
        }
      ]
    },
    {
      "cell_type": "code",
      "source": [
        "data_updated=x[final_data_columns.index]\n",
        "print(len(data_updated.keys()))"
      ],
      "metadata": {
        "colab": {
          "base_uri": "https://localhost:8080/"
        },
        "id": "JmYkbYQOZKYc",
        "outputId": "d8793f84-5774-4db3-95f3-fa2ae04bbdec"
      },
      "execution_count": null,
      "outputs": [
        {
          "output_type": "stream",
          "name": "stdout",
          "text": [
            "6\n"
          ]
        }
      ]
    },
    {
      "cell_type": "code",
      "source": [
        "from sklearn.model_selection import train_test_split\n",
        "from sklearn.tree import DecisionTreeClassifier\n",
        "from sklearn.metrics import accuracy_score\n",
        "model = DecisionTreeClassifier(random_state=42)\n",
        "x_train,x_test,y_train,y_test=train_test_split(x,y,test_size=0.3,random_state=42)\n",
        "model.fit(x_train,y_train)\n",
        "y_pred=model.predict(x_test)\n",
        "print(accuracy_score(y_test,y_pred))\n",
        "\n",
        "xu_train,xu_test,yu_train,yu_test=train_test_split(data_updated,y,test_size=0.3,random_state=42)\n",
        "model.fit(xu_train,yu_train)\n",
        "yu_pred=model.predict(xu_test)\n",
        "print(accuracy_score(yu_test,yu_pred))"
      ],
      "metadata": {
        "colab": {
          "base_uri": "https://localhost:8080/"
        },
        "id": "BvgL0h3zYdDS",
        "outputId": "9982dcda-1327-427a-a6ae-8fd8b07a8fca"
      },
      "execution_count": null,
      "outputs": [
        {
          "output_type": "stream",
          "name": "stdout",
          "text": [
            "0.7012987012987013\n",
            "0.7056277056277056\n"
          ]
        }
      ]
    }
  ]
}